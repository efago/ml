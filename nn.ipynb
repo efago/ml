{
 "cells": [
  {
   "cell_type": "code",
   "execution_count": 12,
   "metadata": {},
   "outputs": [],
   "source": [
    "%matplotlib inline\n",
    "import time\n",
    "import matplotlib.pyplot as plt\n",
    "import numpy as np"
   ]
  },
  {
   "cell_type": "code",
   "execution_count": 13,
   "metadata": {},
   "outputs": [],
   "source": [
    "path= \"../week1/temp/\"\n",
    "train_x= np.load( path + \"train_data.npy\")\n",
    "train_y= np.load( path + \"train_labels.npy\")\n",
    "test_x= np.load( path + \"test_data.npy\")\n",
    "test_y= np.load( path + \"test_labels.npy\")"
   ]
  },
  {
   "cell_type": "code",
   "execution_count": 14,
   "metadata": {},
   "outputs": [
    {
     "data": {
      "text/plain": [
       "((7500, 784), (1000, 784))"
      ]
     },
     "execution_count": 14,
     "metadata": {},
     "output_type": "execute_result"
    }
   ],
   "source": [
    "np.shape(train_x),np.shape(test_x)"
   ]
  },
  {
   "cell_type": "code",
   "execution_count": null,
   "metadata": {},
   "outputs": [],
   "source": []
  },
  {
   "cell_type": "code",
   "execution_count": 15,
   "metadata": {},
   "outputs": [
    {
     "name": "stdout",
     "output_type": "stream",
     "text": [
      "Training set distribution:\n",
      "{0: 750, 1: 750, 2: 750, 3: 750, 4: 750, 5: 750, 6: 750, 7: 750, 8: 750, 9: 750}\n"
     ]
    }
   ],
   "source": [
    "train_digits, train_counts= np.unique(train_y, return_counts=True)\n",
    "print(\"Training set distribution:\")\n",
    "print(dict(zip(train_digits, train_counts)))"
   ]
  },
  {
   "cell_type": "code",
   "execution_count": 16,
   "metadata": {},
   "outputs": [],
   "source": [
    "def shower( data):\n",
    "    plt.axis('off')\n",
    "    plt.imshow( data.reshape( 28, 28))\n",
    "    plt.show()\n",
    "    return\n",
    "\n",
    "def vis( index, dataset= 'train'):\n",
    "    if dataset == 'train':\n",
    "        data= train_x[ index]\n",
    "        label= train_y[ index]\n",
    "    else:\n",
    "        data= test_x[ index]\n",
    "        label= test_y[ index]\n",
    "    print('Digit is ' + str(label))\n",
    "    shower( data)\n",
    "    return  "
   ]
  },
  {
   "cell_type": "code",
   "execution_count": 17,
   "metadata": {},
   "outputs": [
    {
     "name": "stdout",
     "output_type": "stream",
     "text": [
      "Digit is 0\n"
     ]
    },
    {
     "data": {
      "image/png": "[encoded data removed]",
      "text/plain": [
       "<Figure size 432x288 with 1 Axes>"
      ]
     },
     "metadata": {
      "needs_background": "light"
     },
     "output_type": "display_data"
    }
   ],
   "source": [
    "vis( 0, 'test')"
   ]
  },
  {
   "cell_type": "code",
   "execution_count": 18,
   "metadata": {},
   "outputs": [],
   "source": [
    "def euc_dist( x, y):\n",
    "    return np.sum( np.square( x - y))"
   ]
  },
  {
   "cell_type": "code",
   "execution_count": 19,
   "metadata": {},
   "outputs": [
    {
     "data": {
      "text/plain": [
       "5357193.0"
      ]
     },
     "execution_count": 19,
     "metadata": {},
     "output_type": "execute_result"
    }
   ],
   "source": [
    "euc_dist( train_x[4], train_x[5])"
   ]
  },
  {
   "cell_type": "code",
   "execution_count": 23,
   "metadata": {},
   "outputs": [],
   "source": [
    "def nn( index):\n",
    "    dist= [ euc_dist( test_x[ index], i) for i in train_x]\n",
    "    vis( index, 'test')\n",
    "    pred= train_y[np.argmin( dist)]\n",
    "    print( 'Classified as ' + str( pred))\n",
    "    return pred"
   ]
  },
  {
   "cell_type": "code",
   "execution_count": 24,
   "metadata": {},
   "outputs": [
    {
     "name": "stdout",
     "output_type": "stream",
     "text": [
      "Digit is 3\n"
     ]
    },
    {
     "data": {
      "image/png": "[encoded data removed]",
      "text/plain": [
       "<Figure size 432x288 with 1 Axes>"
      ]
     },
     "metadata": {
      "needs_background": "light"
     },
     "output_type": "display_data"
    },
    {
     "name": "stdout",
     "output_type": "stream",
     "text": [
      "Classified as 2\n"
     ]
    },
    {
     "data": {
      "text/plain": [
       "2"
      ]
     },
     "execution_count": 24,
     "metadata": {},
     "output_type": "execute_result"
    }
   ],
   "source": [
    "nn( 39)"
   ]
  },
  {
   "cell_type": "code",
   "execution_count": null,
   "metadata": {},
   "outputs": [],
   "source": []
  },
  {
   "cell_type": "code",
   "execution_count": 29,
   "metadata": {},
   "outputs": [],
   "source": [
    "labels= [ b'NO', b'DH', b'SL']\n",
    "data= np.loadtxt( '../week1/NN_spine/column_3C.dat', converters= {6: lambda s: labels.index(s)})"
   ]
  },
  {
   "cell_type": "code",
   "execution_count": 30,
   "metadata": {},
   "outputs": [],
   "source": [
    "x= data[ :, 0:6]\n",
    "y= data[ :, 6]\n",
    "training_indices = list(range(0,20)) + list(range(40,188)) + list(range(230,310))\n",
    "test_indices = list(range(20,40)) + list(range(188,230))\n",
    "\n",
    "trainx = x[training_indices,:]\n",
    "trainy = y[training_indices]\n",
    "testx = x[test_indices,:]\n",
    "testy = y[test_indices]"
   ]
  },
  {
   "cell_type": "code",
   "execution_count": 31,
   "metadata": {},
   "outputs": [],
   "source": [
    "def NN_L2( trainx, trainy, testx):\n",
    "    preds= []\n",
    "    for test in testx:\n",
    "        l2= lambda x, y: np.sqrt( np.sum(np.square( x -y)))\n",
    "        preds.append( trainy[np.argmin([ l2( test, train) \n",
    "                                        for train in trainx])])\n",
    "    return np.array( preds)\n",
    "\n",
    "def NN_L1( trainx, trainy, testx):\n",
    "    preds= []\n",
    "    for test in testx:\n",
    "        l2= lambda x, y: np.sum(np.abs( x -y))\n",
    "        preds.append( trainy[np.argmin([ l2( test, train) \n",
    "                                        for train in trainx])])\n",
    "    return np.array( preds)"
   ]
  },
  {
   "cell_type": "code",
   "execution_count": 45,
   "metadata": {},
   "outputs": [],
   "source": [
    "def confusion(testy,testy_fit):\n",
    "    testy= testy.astype( 'int')\n",
    "    testy_fit= testy_fit.astype( 'int')\n",
    "    matrix= np.zeros( (3, 3))\n",
    "    for index, value in enumerate(testy):\n",
    "        matrix[ value, testy_fit[ index]]+= 1\n",
    "\n",
    "    return matrix"
   ]
  },
  {
   "cell_type": "code",
   "execution_count": 46,
   "metadata": {},
   "outputs": [
    {
     "data": {
      "text/plain": [
       "array([[16.,  2.,  2.],\n",
       "       [10., 10.,  0.],\n",
       "       [ 0.,  0., 22.]])"
      ]
     },
     "execution_count": 46,
     "metadata": {},
     "output_type": "execute_result"
    }
   ],
   "source": [
    "confusion( testy, NN_L1( trainx, trainy, testx))"
   ]
  },
  {
   "cell_type": "code",
   "execution_count": null,
   "metadata": {},
   "outputs": [],
   "source": []
  }
 ],
 "metadata": {
  "kernelspec": {
   "display_name": "Python 3",
   "language": "python",
   "name": "python3"
  },
  "language_info": {
   "codemirror_mode": {
    "name": "ipython",
    "version": 3
   },
   "file_extension": ".py",
   "mimetype": "text/x-python",
   "name": "python",
   "nbconvert_exporter": "python",
   "pygments_lexer": "ipython3",
   "version": "3.7.4"
  }
 },
 "nbformat": 4,
 "nbformat_minor": 2
}
