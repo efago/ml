{
 "cells": [
  {
   "cell_type": "code",
   "execution_count": 1,
   "metadata": {},
   "outputs": [],
   "source": [
    "import matplotlib.pyplot as plt\n",
    "import numpy as np\n",
    "from scipy.stats import norm, multivariate_normal\n",
    "import ipywidgets as widgets\n",
    "from IPython.display import display\n",
    "from ipywidgets import interact, interactive, fixed, interact_manual, IntSlider"
   ]
  },
  {
   "cell_type": "code",
   "execution_count": 8,
   "metadata": {},
   "outputs": [],
   "source": [
    "data= np.loadtxt('wine.data.txt', delimiter= ',')\n",
    "featurenames = ['Alcohol', 'Malic acid', 'Ash', 'Alcalinity of ash','Magnesium', 'Total phenols', \n",
    "                'Flavanoids', 'Nonflavanoid phenols', 'Proanthocyanins', 'Color intensity', 'Hue', \n",
    "                'OD280/OD315 of diluted wines', 'Proline']"
   ]
  },
  {
   "cell_type": "code",
   "execution_count": 9,
   "metadata": {},
   "outputs": [
    {
     "data": {
      "text/plain": [
       "(178, 14)"
      ]
     },
     "execution_count": 9,
     "metadata": {},
     "output_type": "execute_result"
    }
   ],
   "source": [
    "rand= np.random.permutation(178)\n",
    "data.shape"
   ]
  },
  {
   "cell_type": "code",
   "execution_count": 10,
   "metadata": {},
   "outputs": [],
   "source": [
    "trainx= data[ rand[ :140], 1:14]\n",
    "trainy= data[ rand[ :140], 0].astype(int)\n",
    "testx= data[ rand[ 140:], 1:14]\n",
    "testy= data[ rand[ 140:], 0].astype(int)"
   ]
  },
  {
   "cell_type": "code",
   "execution_count": 12,
   "metadata": {},
   "outputs": [
    {
     "data": {
      "application/vnd.jupyter.widget-view+json": {
       "model_id": "3a2ab5ea6e914ef3b02069caac69f5ca",
       "version_major": 2,
       "version_minor": 0
      },
      "text/plain": [
       "interactive(children=(IntSlider(value=0, description='feature', max=1, step=12), IntSlider(value=1, descriptio…"
      ]
     },
     "metadata": {},
     "output_type": "display_data"
    }
   ],
   "source": [
    "@interact_manual( feature=IntSlider(0,0,1,12), label=IntSlider(1,1,3))\n",
    "def density_plot(feature, label):\n",
    "    data= trainx[trainy == label, feature]\n",
    "    plt.hist( data, normed= True)\n",
    "    \n",
    "    mu= np.mean( data)\n",
    "    std= np.std( data)\n",
    "    \n",
    "    x_axis= np.linspace( mu - 3*std, mu + 3*std, 1000)\n",
    "    plt.plot( x_axis, norm.pdf( x_axis, mu, std), lw= 3)\n",
    "    plt.title( 'winery ' + str(label))\n",
    "    plt.xlabel( featurenames[ feature])\n",
    "    plt.ylabel( 'Density')"
   ]
  },
  {
   "cell_type": "code",
   "execution_count": 13,
   "metadata": {},
   "outputs": [],
   "source": [
    "def fit_generative_model(x,y,feature,winery):\n",
    "    data= x[ trainy == winery, feature]\n",
    "    pi= float( np.sum( trainy == y))/len( trainy)\n",
    "    return np.mean(data), np.std( data), pi"
   ]
  },
  {
   "cell_type": "code",
   "execution_count": 14,
   "metadata": {},
   "outputs": [
    {
     "data": {
      "application/vnd.jupyter.widget-view+json": {
       "model_id": "c61420a2c05c4bb483cd4fd0e10047ab",
       "version_major": 2,
       "version_minor": 0
      },
      "text/plain": [
       "interactive(children=(IntSlider(value=0, description='feature', max=12), Button(description='Run Interact', st…"
      ]
     },
     "metadata": {},
     "output_type": "display_data"
    }
   ],
   "source": [
    "@interact_manual( feature=IntSlider(0,0,12) )\n",
    "def show_densities(feature):\n",
    "    colors = ['r', 'k', 'g']\n",
    "    for i in range(3):\n",
    "        mu, std, pi =fit_generative_model( trainx, trainy, feature, i+1)\n",
    "        x_axis= np.linspace( mu - 3*std, mu + 3*std, 1000)\n",
    "        plt.plot( x_axis, norm.pdf( x_axis, mu, std), label= 'winery ' + str(i+1))\n",
    "    plt.xlabel( featurenames[ feature])\n",
    "    plt.ylabel( 'Density')\n",
    "    plt.legend()\n",
    "    plt.show()"
   ]
  },
  {
   "cell_type": "code",
   "execution_count": 15,
   "metadata": {},
   "outputs": [
    {
     "data": {
      "application/vnd.jupyter.widget-view+json": {
       "model_id": "0d6100154cfc494bb2592693cdd91c6b",
       "version_major": 2,
       "version_minor": 0
      },
      "text/plain": [
       "interactive(children=(IntSlider(value=0, description='feature', max=12), Output()), _dom_classes=('widget-inte…"
      ]
     },
     "metadata": {},
     "output_type": "display_data"
    }
   ],
   "source": [
    "@interact( feature=IntSlider(0,0,12) )\n",
    "def test_model(feature):\n",
    "    mu= np.zeros(3)\n",
    "    std= np.zeros(3)\n",
    "    pi= np.zeros(3)\n",
    "    probs= np.zeros(3)\n",
    "    errors= 0\n",
    "    \n",
    "    for i in range(3):\n",
    "        mu[i], std[i], pi[i] =fit_generative_model( trainx, trainy, \n",
    "                                          feature, i+1)    \n",
    "    for x, y in zip( testx[:, feature], testy):\n",
    "        for i in range( 3):\n",
    "            probs[i] = pi[i] * norm.pdf( x, mu[i], std[i])\n",
    "        if np.argmax( probs) + 1 != y:\n",
    "            errors+= 1\n",
    "    print( 'Accuracy in ' + featurenames[ feature] + ' :' + str(errors) +'/48')"
   ]
  },
  {
   "cell_type": "code",
   "execution_count": null,
   "metadata": {},
   "outputs": [],
   "source": []
  },
  {
   "cell_type": "code",
   "execution_count": 92,
   "metadata": {},
   "outputs": [],
   "source": [
    "def plot_contour( mu, cov, x1g, x2g):\n",
    "    rv= multivariate_normal( mu, cov)\n",
    "    pdfs= np.zeros(( len( x1g), len(x2g)))\n",
    "    for i in range(0,len(x1g)):\n",
    "        for j in range(0,len(x2g)):\n",
    "            pdfs[j,i] = rv.logpdf([x1g[i], x2g[j]])\n",
    "    s, log= np.linalg.slogdet( cov)\n",
    "    normalizer= -0.5 * (2 * np.log(6.28) + s * log)\n",
    "    for i in range( 1,4):\n",
    "        plt.contour( x1g, x2g, pdfs, levels= [ normalizer - i])"
   ]
  },
  {
   "cell_type": "code",
   "execution_count": 63,
   "metadata": {},
   "outputs": [],
   "source": [
    "def compute_coordinates( points):  \n",
    "    gap= ( max(points) - min(points))*0.2\n",
    "    return np.linspace( min(points) - gap, max( points) + gap, 200)"
   ]
  },
  {
   "cell_type": "code",
   "execution_count": 93,
   "metadata": {},
   "outputs": [],
   "source": [
    "def two_features_plot(f1,f2,labels= [1,2,3]):\n",
    "    for label in labels:\n",
    "        points= trainx[ trainy == label][:, [f1, f2]]\n",
    "        mu= np.mean( points, axis= 0)\n",
    "        cov= np.cov( points, rowvar= False, bias= 1)\n",
    "        p1= points[:, 0]\n",
    "        p2= points[:, 1]\n",
    "        x1g= compute_coordinates( p1)\n",
    "        x2g= compute_coordinates( p2)\n",
    "        plt.plot( p1, p2, 'o', label= 'Winery ' + str(label))\n",
    "        plot_contour( mu, cov, x1g, x2g)\n",
    "    plt.xlabel(featurenames[ f1])\n",
    "    plt.ylabel( featurenames[ f2])\n",
    "    plt.legend()\n",
    "    plt.show()"
   ]
  },
  {
   "cell_type": "code",
   "execution_count": 94,
   "metadata": {},
   "outputs": [
    {
     "data": {
      "image/png": "[encoded data removed]",
      "text/plain": [
       "<Figure size 432x288 with 1 Axes>"
      ]
     },
     "metadata": {
      "needs_background": "light"
     },
     "output_type": "display_data"
    }
   ],
   "source": [
    "two_features_plot( 0, 6, [1,2,3])"
   ]
  },
  {
   "cell_type": "code",
   "execution_count": 116,
   "metadata": {},
   "outputs": [
    {
     "data": {
      "application/vnd.jupyter.widget-view+json": {
       "model_id": "b2f593e8a7534078ae32ff683493a1e1",
       "version_major": 2,
       "version_minor": 0
      },
      "text/plain": [
       "interactive(children=(IntSlider(value=0, description='f1', max=12), IntSlider(value=6, description='f2', max=1…"
      ]
     },
     "metadata": {},
     "output_type": "display_data"
    }
   ],
   "source": [
    "@interact_manual( f1= IntSlider( 0, 0, 12, 1), f2= IntSlider( 6, 0, 12, 1))\n",
    "def decision_boundary( f1, f2):\n",
    "    if f1 == f2:\n",
    "        print(\"Choose differing features\")\n",
    "        return\n",
    "    pi= np.zeros( 3)\n",
    "    gaussian= {}\n",
    "    for winery in range( 3):\n",
    "        mu= np.mean( trainx[ trainy==winery+1][:, [f1,f2]], axis= 0)\n",
    "        cov= np.cov( trainx[ trainy==winery+1][:, [f1,f2]], \n",
    "                            rowvar= False, bias= 1)\n",
    "        gaussian[winery]= multivariate_normal( mu, cov)\n",
    "        pi[winery]= np.log( len( trainx[ trainy==winery+1])/len( trainx))\n",
    "    xg1= np.linspace( min(trainx[:, f1]), max(trainx[:,f1]), 200)\n",
    "    xg2= np.linspace( min(trainx[:, f2]), max(trainx[:,f2]), 200)\n",
    "    preds= np.zeros(( len(xg1),len(xg2)))\n",
    "    score= np.zeros(3)\n",
    "    for i,x in enumerate(xg1):\n",
    "        for j,y in enumerate(xg2):\n",
    "            for k in range( 3):\n",
    "                score[k] = gaussian[k].logpdf( [x, y]) + pi[k]\n",
    "            preds[ i, j]= np.argmax( score) + 1\n",
    "    plt.contour( xg1, xg2, preds.T, 3, cmap= 'seismic')\n",
    "    plt.scatter( trainx[ :, f1], trainx[ :, f2], c= trainy)\n",
    "    plt.show()       "
   ]
  },
  {
   "cell_type": "code",
   "execution_count": null,
   "metadata": {},
   "outputs": [],
   "source": []
  },
  {
   "cell_type": "code",
   "execution_count": null,
   "metadata": {},
   "outputs": [],
   "source": []
  },
  {
   "cell_type": "code",
   "execution_count": null,
   "metadata": {},
   "outputs": [],
   "source": []
  },
  {
   "cell_type": "code",
   "execution_count": null,
   "metadata": {},
   "outputs": [],
   "source": []
  }
 ],
 "metadata": {
  "kernelspec": {
   "display_name": "Python 3",
   "language": "python",
   "name": "python3"
  },
  "language_info": {
   "codemirror_mode": {
    "name": "ipython",
    "version": 3
   },
   "file_extension": ".py",
   "mimetype": "text/x-python",
   "name": "python",
   "nbconvert_exporter": "python",
   "pygments_lexer": "ipython3",
   "version": "3.7.4"
  }
 },
 "nbformat": 4,
 "nbformat_minor": 2
}
