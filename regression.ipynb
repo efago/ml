{
 "cells": [
  {
   "cell_type": "code",
   "execution_count": 1,
   "metadata": {},
   "outputs": [
    {
     "name": "stderr",
     "output_type": "stream",
     "text": [
      "/opt/anaconda3/lib/python3.7/importlib/_bootstrap.py:219: RuntimeWarning: numpy.ufunc size changed, may indicate binary incompatibility. Expected 192 from C header, got 216 from PyObject\n",
      "  return f(*args, **kwds)\n"
     ]
    }
   ],
   "source": [
    "import matplotlib.pyplot as plt\n",
    "from sklearn import linear_model\n",
    "from sklearn.metrics import mean_squared_error\n",
    "from sklearn.feature_extraction.text import CountVectorizer\n",
    "from sklearn.linear_model import SGDClassifier\n",
    "from sklearn. feature_selection import train_test_split\n",
    "import numpy as np\n",
    "import string"
   ]
  },
  {
   "cell_type": "code",
   "execution_count": 2,
   "metadata": {},
   "outputs": [],
   "source": [
    "data= np.loadtxt( 'diabetes-data.csv', delimiter= ',')\n",
    "features = ['age', 'sex', 'body mass index', 'blood pressure', \n",
    "            'serum1', 'serum2', 'serum3', 'serum4', 'serum5', 'serum6']\n",
    "x = data[:,0:10]\n",
    "y = data[:,10]"
   ]
  },
  {
   "cell_type": "code",
   "execution_count": 18,
   "metadata": {},
   "outputs": [],
   "source": [
    "def regression( x, y, f, plot= False):\n",
    "    data= x[ :, f]\n",
    "    model= linear_model.LinearRegression().fit( data, y)\n",
    "    preds= model.predict(data)\n",
    "    if plot:\n",
    "        plt.plot( data, y, 'ro', label= 'Actual values')\n",
    "        plt.plot( data, preds, 'b-', label= 'Predicted values')\n",
    "        plt.legend()\n",
    "        plt.show()\n",
    "    print( 'Regression coefficients w: ' + str( model.coef_))\n",
    "    print( 'Regression intercept b: ' + str( model.intercept_))\n",
    "    print( 'Mean squared error: ' + str( mean_squared_error( y, preds)))\n",
    "    return"
   ]
  },
  {
   "cell_type": "code",
   "execution_count": 20,
   "metadata": {},
   "outputs": [
    {
     "data": {
      "image/png": "[encoded data removed]",
      "text/plain": [
       "<Figure size 432x288 with 1 Axes>"
      ]
     },
     "metadata": {
      "needs_background": "light"
     },
     "output_type": "display_data"
    },
    {
     "name": "stdout",
     "output_type": "stream",
     "text": [
      "Regression coefficients w: [0.47230194]\n",
      "Regression intercept b: 62.8021662163996\n",
      "Mean squared error: 5663.315623739354\n"
     ]
    }
   ],
   "source": [
    "regression( x, y, [4], True)"
   ]
  },
  {
   "cell_type": "code",
   "execution_count": 22,
   "metadata": {},
   "outputs": [
    {
     "name": "stdout",
     "output_type": "stream",
     "text": [
      "Regression coefficients w: [-0.24177016 91.76831658]\n",
      "Regression intercept b: -228.0725027816343\n",
      "Mean squared error: 3979.7097540556524\n"
     ]
    }
   ],
   "source": [
    "regression( x, y, [4, 8])"
   ]
  },
  {
   "cell_type": "code",
   "execution_count": null,
   "metadata": {},
   "outputs": [],
   "source": []
  },
  {
   "cell_type": "code",
   "execution_count": 37,
   "metadata": {},
   "outputs": [],
   "source": [
    "with open( '../week4/sentiment-logistic-regression/sentiment_labelled_sentences/full_set.txt') as f:\n",
    "    lines= f.readlines()\n",
    "lines= [ line.strip() for line in lines]\n",
    "x= [ line.split('\\t')[0] for line in lines]\n",
    "y= np.array( [ line.split('\\t')[1] for line in lines], dtype= 'int8')*2 - 1"
   ]
  },
  {
   "cell_type": "code",
   "execution_count": 43,
   "metadata": {},
   "outputs": [],
   "source": [
    "def full_remove(x, removal_list):\n",
    "    for w in removal_list:\n",
    "        x = x.replace(w, ' ')\n",
    "    return x\n",
    "digits = [str(x) for x in range(10)]\n",
    "digit_less = [full_remove(i, digits) for i in x]\n",
    "punc_less = [full_remove(x, list(string.punctuation)) for x in digit_less]\n",
    "sents_lower = [x.lower() for x in punc_less]"
   ]
  },
  {
   "cell_type": "code",
   "execution_count": 46,
   "metadata": {},
   "outputs": [],
   "source": [
    "bag= CountVectorizer( stop_words= 'english', max_features= 4000)\n",
    "vectors= bag.fit_transform( sents_lower).toarray()"
   ]
  },
  {
   "cell_type": "code",
   "execution_count": 48,
   "metadata": {},
   "outputs": [],
   "source": [
    "temp= np.ones(( vectors.shape[0], vectors.shape[1] + 1))\n",
    "temp[ :, :-1]= vectors\n",
    "vectors= temp"
   ]
  },
  {
   "cell_type": "code",
   "execution_count": 57,
   "metadata": {},
   "outputs": [],
   "source": [
    "trainx, testx, trainy, testy= train_test_split( vectors, y, test_size=500)"
   ]
  },
  {
   "cell_type": "code",
   "execution_count": 58,
   "metadata": {},
   "outputs": [
    {
     "data": {
      "text/plain": [
       "((2500, 4001), (2500,), (500, 4001), (500,))"
      ]
     },
     "execution_count": 58,
     "metadata": {},
     "output_type": "execute_result"
    }
   ],
   "source": [
    "trainx.shape, trainy.shape, testx.shape, testy.shape"
   ]
  },
  {
   "cell_type": "code",
   "execution_count": 60,
   "metadata": {},
   "outputs": [
    {
     "data": {
      "text/plain": [
       "array([ 1, -1, -1, ..., -1, -1, -1], dtype=int8)"
      ]
     },
     "execution_count": 60,
     "metadata": {},
     "output_type": "execute_result"
    }
   ],
   "source": [
    "trainy"
   ]
  },
  {
   "cell_type": "code",
   "execution_count": 87,
   "metadata": {},
   "outputs": [
    {
     "name": "stdout",
     "output_type": "stream",
     "text": [
      "Coefficients w: [[ 3.82775893e-03 -5.51205419e+00 -3.96456419e+00 ... -2.87669891e+00\n",
      "  -4.60834636e+00 -8.38750647e-01]]\n",
      "Bias term b: [-0.83875065]\n",
      "Training error: 0.0132\n",
      "Test error: 0.188\n"
     ]
    }
   ],
   "source": [
    "sgd_model= SGDClassifier( loss= 'log', penalty= 'none')\n",
    "sgd_model.fit( trainx, trainy)\n",
    "preds_train= sgd_model.predict( trainx)\n",
    "preds_test= sgd_model.predict( testx)\n",
    "error_train= np.sum( preds_train != trainy )/len(trainy)\n",
    "error_test= np.sum( preds_test != testy)/len( testy)\n",
    "\n",
    "print( 'Coefficients w: ' + str(sgd_model.coef_))\n",
    "print( 'Bias term b: ' + str(sgd_model.intercept_))\n",
    "print( 'Training error: ' + str(error_train))\n",
    "print( 'Test error: ' + str(error_test))"
   ]
  },
  {
   "cell_type": "code",
   "execution_count": 146,
   "metadata": {},
   "outputs": [],
   "source": [
    "def show_margin( data, labels):\n",
    "    preds= sgd_model.predict_proba( data)[:, 0]\n",
    "    preds_binary= sgd_model.predict( data)\n",
    "    length= len( labels)\n",
    "    indices= lambda gamma: np.where( ( preds > 0.5 + gamma) | \n",
    "                                 ( preds < 0.5 - gamma))[0]\n",
    "    counts= lambda gamma: len( indices( gamma))\n",
    "    gammas= np.arange( 0, 0.5, 0.01)\n",
    "    \n",
    "    density= []\n",
    "    errors= []\n",
    "    for gamma in gammas:\n",
    "        density.append( counts( gamma)/length)\n",
    "        idx= indices( gamma)\n",
    "        errors.append(np.sum( preds_binary[idx] != labels[ idx])/len(idx))\n",
    "    \n",
    "    plt.subplot(1,2,1).plot( gammas, density, 'r', label= 'Margin density')\n",
    "    plt.legend()\n",
    "    plt.subplot(1,2,2).plot( gammas, errors, 'g', label= 'Error rate')\n",
    "    plt.legend()\n",
    "    plt.show()"
   ]
  },
  {
   "cell_type": "code",
   "execution_count": 147,
   "metadata": {},
   "outputs": [
    {
     "data": {
      "image/png": "[encoded data removed]",
      "text/plain": [
       "<Figure size 432x288 with 2 Axes>"
      ]
     },
     "metadata": {
      "needs_background": "light"
     },
     "output_type": "display_data"
    }
   ],
   "source": [
    "show_margin( testx, testy)"
   ]
  },
  {
   "cell_type": "code",
   "execution_count": 169,
   "metadata": {},
   "outputs": [
    {
     "name": "stdout",
     "output_type": "stream",
     "text": [
      "Most positive words:\n",
      "['nice' 'delicious' 'awesome' 'game' 'liked' 'perfectly' 'laptop' 'played'\n",
      " 'appreciate' 'outstanding' 'joy' 'fine' 'works' 'loved' 'stories'\n",
      " 'brilliant' 'incredible' 'excellent' 'great' 'beautiful']\n",
      "\n",
      "Most negative words:\n",
      "['poor' 'walked' 'pm' 'mediocre' 'rude' 'dirty' 'disappointment' 'guess'\n",
      " 'avoid' 'terrible' 'waste' 'wasn' 'awful' 'bad' 'worst' 'stated' 'wouldn'\n",
      " 'horrible' 'slow' 'useless']\n"
     ]
    }
   ],
   "source": [
    "words= np.array( sorted(bag.vocabulary_.keys()))\n",
    "coefficients= sgd_model.coef_\n",
    "rank= np.argsort( coefficients)[0]\n",
    "negatives= words[ rank[:20]]\n",
    "positives= words[ rank[ -20:][::-1]]\n",
    "print( 'Most positive words:')\n",
    "print( positives)\n",
    "print( '\\nMost negative words:')\n",
    "print( negatives)"
   ]
  },
  {
   "cell_type": "code",
   "execution_count": null,
   "metadata": {},
   "outputs": [],
   "source": []
  },
  {
   "cell_type": "code",
   "execution_count": 229,
   "metadata": {},
   "outputs": [],
   "source": [
    "def generate_data( n):\n",
    "    w= np.array( [1]*10 + [0]*90)\n",
    "    x= np.random.normal(size= (n,100))\n",
    "    y= np.dot( w, x.T) + np.random.normal( size= n)\n",
    "    return x, y"
   ]
  },
  {
   "cell_type": "code",
   "execution_count": 328,
   "metadata": {},
   "outputs": [],
   "source": [
    "def ridge_regression_GD(x,y,C):\n",
    "    lr= 0.001\n",
    "    w= np.zeros( x.shape[1])\n",
    "    b= 0\n",
    "    loss_prev= 10**11\n",
    "    loss_cur= 10**10\n",
    "    losses= []\n",
    "    while  ( loss_cur < loss_prev) | (len( losses) < 1000):\n",
    "        loss_prev= loss_cur\n",
    "        pred= np.dot( x, w) + b\n",
    "        multiplier= [ (y[i] - pred[i])*x[i] for i in range( len(x))]\n",
    "        multiplier= np.sum( np.array( multiplier), axis= 0)\n",
    "        w= w - 2*lr*( C*w - multiplier) \n",
    "        b= b + 2*lr*np.sum( y - pred)\n",
    "        loss_cur= np.sum(( y - pred)**2) + C*np.dot(w,w)\n",
    "        losses.append( loss_cur)\n",
    "    return w, b, losses"
   ]
  },
  {
   "cell_type": "code",
   "execution_count": 329,
   "metadata": {},
   "outputs": [
    {
     "data": {
      "text/plain": [
       "((100,), 0.13372789049311914, 1000)"
      ]
     },
     "execution_count": 329,
     "metadata": {},
     "output_type": "execute_result"
    }
   ],
   "source": [
    "x,y = generate_data(200)\n",
    "w, b, losses = ridge_regression_GD(x,y,1)\n",
    "w.shape, b, len(losses)"
   ]
  },
  {
   "cell_type": "code",
   "execution_count": 330,
   "metadata": {},
   "outputs": [
    {
     "data": {
      "text/plain": [
       "[<matplotlib.lines.Line2D at 0x7fe0568d0590>]"
      ]
     },
     "execution_count": 330,
     "metadata": {},
     "output_type": "execute_result"
    },
    {
     "data": {
      "image/png": "[encoded data removed]",
      "text/plain": [
       "<Figure size 432x288 with 1 Axes>"
      ]
     },
     "metadata": {
      "needs_background": "light"
     },
     "output_type": "display_data"
    }
   ],
   "source": [
    "plt.plot( losses)"
   ]
  },
  {
   "cell_type": "code",
   "execution_count": 336,
   "metadata": {},
   "outputs": [],
   "source": [
    "def compute_mse(w,b,x,y):\n",
    "    residuals = y - (np.dot(x, w) + b)\n",
    "    return np.dot(residuals, residuals)/len(y)"
   ]
  },
  {
   "cell_type": "code",
   "execution_count": 339,
   "metadata": {},
   "outputs": [
    {
     "name": "stdout",
     "output_type": "stream",
     "text": [
      "MSE of gradient descent solver:  0.6116902605202761\n",
      "MSE of built-in solver:  0.6116902605202761\n",
      "Distance between w-coefficients:  4.756860550123179e-15\n"
     ]
    }
   ],
   "source": [
    "c= 10\n",
    "w, b, losses = ridge_regression_GD(x,y,c)\n",
    "model= linear_model.Ridge(alpha=c)\n",
    "model.fit(x, y)\n",
    "print (\"MSE of gradient descent solver: \", compute_mse(w,b,x,y))\n",
    "print (\"MSE of built-in solver: \", mean_squared_error(model.predict(x), y))\n",
    "print (\"Distance between w-coefficients: \", np.linalg.norm(w-model.coef_))"
   ]
  },
  {
   "cell_type": "code",
   "execution_count": 294,
   "metadata": {},
   "outputs": [
    {
     "ename": "ValueError",
     "evalue": "shapes (5,) and (2,5) not aligned: 5 (dim 0) != 2 (dim 0)",
     "output_type": "error",
     "traceback": [
      "\u001b[0;31m---------------------------------------------------------------------------\u001b[0m",
      "\u001b[0;31mValueError\u001b[0m                                Traceback (most recent call last)",
      "\u001b[0;32m<ipython-input-294-63db7a6b20c8>\u001b[0m in \u001b[0;36m<module>\u001b[0;34m\u001b[0m\n\u001b[0;32m----> 1\u001b[0;31m \u001b[0mnp\u001b[0m\u001b[0;34m.\u001b[0m\u001b[0mdot\u001b[0m\u001b[0;34m(\u001b[0m \u001b[0ma\u001b[0m\u001b[0;34m,\u001b[0m \u001b[0maa\u001b[0m\u001b[0;34m)\u001b[0m\u001b[0;34m,\u001b[0m \u001b[0mnp\u001b[0m\u001b[0;34m.\u001b[0m\u001b[0mdot\u001b[0m\u001b[0;34m(\u001b[0m \u001b[0maa\u001b[0m\u001b[0;34m,\u001b[0m\u001b[0ma\u001b[0m\u001b[0;34m)\u001b[0m\u001b[0;34m\u001b[0m\u001b[0;34m\u001b[0m\u001b[0m\n\u001b[0m",
      "\u001b[0;32m<__array_function__ internals>\u001b[0m in \u001b[0;36mdot\u001b[0;34m(*args, **kwargs)\u001b[0m\n",
      "\u001b[0;31mValueError\u001b[0m: shapes (5,) and (2,5) not aligned: 5 (dim 0) != 2 (dim 0)"
     ]
    }
   ],
   "source": [
    "np.linalg.norm"
   ]
  },
  {
   "cell_type": "code",
   "execution_count": 215,
   "metadata": {},
   "outputs": [
    {
     "data": {
      "text/plain": [
       "array([1, 2, 3, 4, 5])"
      ]
     },
     "execution_count": 215,
     "metadata": {},
     "output_type": "execute_result"
    }
   ],
   "source": [
    "np.arange(5)+1"
   ]
  },
  {
   "cell_type": "code",
   "execution_count": 197,
   "metadata": {},
   "outputs": [
    {
     "data": {
      "text/plain": [
       "array([-5.47224752, -0.49528055, -1.47789166, -0.16415634,  5.96211533,\n",
       "        5.203761  , -3.00830535,  1.42336764,  0.45720978,  2.83264632,\n",
       "       -2.30635152, -0.97130083, -0.28313111,  1.15650602,  0.08406757,\n",
       "       -2.45524362,  0.45992804,  0.74877774, -0.43523314,  0.9412795 ,\n",
       "       -0.03879633,  5.50468182, -1.84070347, -0.4123857 ,  0.13712393,\n",
       "        0.41647372,  3.56187501, -4.41995194, -0.60256891,  2.4302438 ,\n",
       "       -2.3917704 ,  2.77909361, -3.3507132 , -2.79936899, -6.30809253,\n",
       "        2.43143279,  0.29371627,  5.2057177 , -4.52884437, -1.47153985,\n",
       "       -1.52440833,  3.25192115,  2.11309307,  3.31495711, -4.57418683,\n",
       "        2.29537964, -3.01508333, -2.72671574,  0.2578193 ,  7.1324219 ,\n",
       "        1.31095756, -4.18031314, -3.7173464 , -0.97138442, -1.58144518,\n",
       "        8.99424943, -1.82990065,  1.610574  ,  3.37979257, -3.93937362,\n",
       "        1.01903379, -0.45600349, -3.92395325,  1.21418233,  1.21912875,\n",
       "       -0.6716452 ,  6.25316063,  3.04409496,  6.73153409,  4.90267323,\n",
       "        1.10884867, -0.85474003,  0.79794535,  0.7787195 ,  3.53749466,\n",
       "        0.4468489 ,  2.5266866 , -4.21112861,  0.96948633,  1.84635986,\n",
       "        0.06325553,  2.89412159, -2.02142135, -2.01711347, -1.42990686,\n",
       "        1.09089877, -2.87798333, -1.08798841, -2.16922813, -7.16135618,\n",
       "       -4.72838776,  2.02050355, -1.01019424,  3.85385622, -5.35206573,\n",
       "       -3.47670289, -3.89537187, -3.97477176, -5.95056046, -7.084464  ,\n",
       "        2.72908963, -5.14212592, -1.09847568,  1.38483043, -4.19109859,\n",
       "       -2.31257029, -3.6794484 , -1.89865684,  1.95511004,  0.67365786,\n",
       "       -3.71165238, -0.38831015, -0.37720708,  4.06380232, -1.93700407,\n",
       "        2.51507757,  2.5245817 ,  2.38649245, -1.27636365,  2.67048757,\n",
       "       -8.36376654,  7.35631787,  2.69897977, -0.33810483, -0.04171404,\n",
       "        0.28798511, -3.03847974, -4.39096513,  5.60673001,  3.45239336,\n",
       "        0.06424262, -6.66192668,  3.25801709,  3.0533628 , -0.4909399 ,\n",
       "        1.19593785,  1.73569206,  6.4605088 ,  1.414552  , -1.26648744,\n",
       "        1.26147737,  0.1699269 , -5.72258771, -6.51441091,  3.3592661 ,\n",
       "       -3.04124637, -4.76350443,  2.27434695, -4.35522219,  3.61781936,\n",
       "       -2.61602155,  2.67914699,  2.16364508,  4.7572669 , -7.47941063,\n",
       "       -1.09512887, -4.03367582, -0.56044983,  0.64807616, -4.10075579,\n",
       "        5.66162909,  2.43018491, -0.40012819,  0.07545999,  2.6202326 ,\n",
       "       -0.15571069, -3.33794053,  5.22060553, -0.39088411,  7.43004366,\n",
       "       -1.50467265, -0.49326615,  2.61171112,  2.15347791, -0.11013645,\n",
       "       -6.81372735, -5.90115762, -0.64929079,  1.50951149, -1.87289571,\n",
       "       -3.24252137, -0.71141834, -1.12305446,  4.79684926,  2.31761271,\n",
       "       -1.46230199,  3.22626087, -0.12742411, -2.13108756, -8.52242356,\n",
       "       -2.19728343,  3.03939156,  0.98734578, -6.10999591, -0.31419351,\n",
       "        6.03130973,  2.89561814, -1.60135354,  0.37192371, -1.54622233])"
      ]
     },
     "execution_count": 197,
     "metadata": {},
     "output_type": "execute_result"
    }
   ],
   "source": [
    "y"
   ]
  },
  {
   "cell_type": "code",
   "execution_count": null,
   "metadata": {},
   "outputs": [],
   "source": [
    "plt.scatter()"
   ]
  }
 ],
 "metadata": {
  "kernelspec": {
   "display_name": "Python 3",
   "language": "python",
   "name": "python3"
  },
  "language_info": {
   "codemirror_mode": {
    "name": "ipython",
    "version": 3
   },
   "file_extension": ".py",
   "mimetype": "text/x-python",
   "name": "python",
   "nbconvert_exporter": "python",
   "pygments_lexer": "ipython3",
   "version": "3.7.4"
  }
 },
 "nbformat": 4,
 "nbformat_minor": 2
}
